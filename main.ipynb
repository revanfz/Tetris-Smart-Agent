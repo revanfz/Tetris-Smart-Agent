{
 "cells": [
  {
   "cell_type": "code",
   "execution_count": null,
   "metadata": {},
   "outputs": [],
   "source": [
    "!python -m pip install -q setuptools pip --upgrade"
   ]
  },
  {
   "cell_type": "code",
   "execution_count": null,
   "metadata": {},
   "outputs": [],
   "source": [
    "%pip install -q swig\n",
    "%pip install -q gymnasium[box2d]\n",
    "%pip install torch torchvision torchaudio --index-url https://download.pytorch.org/whl/cu118"
   ]
  },
  {
   "cell_type": "code",
   "execution_count": 1,
   "metadata": {},
   "outputs": [],
   "source": [
    "import gymnasium as gym\n",
    "import pygame"
   ]
  },
  {
   "cell_type": "code",
   "execution_count": 44,
   "metadata": {},
   "outputs": [],
   "source": [
    "from tetrominos import T"
   ]
  },
  {
   "cell_type": "code",
   "execution_count": 48,
   "metadata": {},
   "outputs": [],
   "source": [
    "PIXEL = 30\n",
    "ROW, COL = 20, 10\n",
    "MATRIX_WIDTH, MATRIX_HEIGHT = (COL + 2) * PIXEL, (ROW + 2) * PIXEL\n",
    "FPS = 24\n",
    "\n",
    "SIDEBAR_WIDTH = 200\n",
    "PREVIEW_HEIGHT = 0.7\n",
    "SCOREBAR_HEIGHT = 1 - PREVIEW_HEIGHT\n",
    "\n",
    "WINDOW_WIDTH = MATRIX_WIDTH + SIDEBAR_WIDTH + PIXEL * 3\n",
    "WINDOW_HEIGHT = MATRIX_HEIGHT + PIXEL * 2\n",
    "\n",
    "scores = 0\n",
    "running = True\n",
    "\n",
    "pygame.init()\n",
    "pygame.display.set_caption('Tetris Game')\n",
    "display = pygame.display.set_mode([WINDOW_WIDTH, WINDOW_HEIGHT])\n",
    "clock = pygame.time.Clock()\n",
    "\n",
    "while running:\n",
    "    for event in pygame.event.get():\n",
    "        if event.type == pygame.QUIT:\n",
    "            running = False\n",
    "            break\n",
    "\n",
    "        if event.type == pygame.KEYDOWN:\n",
    "            if event.key == pygame.K_ESCAPE:\n",
    "                running = False\n",
    "                break\n",
    "    \n",
    "    display.fill((67, 70, 75))\n",
    "    \n",
    "    #border\n",
    "    pygame.draw.rect(display, 'WHITE', (PIXEL, PIXEL, COL * PIXEL, 1)) # atas\n",
    "    pygame.draw.rect(display, 'WHITE', ((COL + 1) * PIXEL, PIXEL, 1, ROW * PIXEL)) # kanan\n",
    "    pygame.draw.rect(display, 'WHITE', (PIXEL, (ROW+1) * PIXEL, COL * PIXEL, 1)) # bawah\n",
    "    pygame.draw.rect(display, 'WHITE', (PIXEL, PIXEL, 1, ROW * PIXEL)) # kiri\n",
    "    \n",
    "    pygame.display.update()\n",
    "    clock.tick(FPS)\n",
    "\n",
    "pygame.quit()"
   ]
  }
 ],
 "metadata": {
  "kernelspec": {
   "display_name": "Python 3",
   "language": "python",
   "name": "python3"
  },
  "language_info": {
   "codemirror_mode": {
    "name": "ipython",
    "version": 3
   },
   "file_extension": ".py",
   "mimetype": "text/x-python",
   "name": "python",
   "nbconvert_exporter": "python",
   "pygments_lexer": "ipython3",
   "version": "0.0.0"
  }
 },
 "nbformat": 4,
 "nbformat_minor": 2
}
